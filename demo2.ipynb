{
 "cells": [
  {
   "cell_type": "markdown",
   "id": "3d805f29-3ac8-46a6-9121-9b60286d7217",
   "metadata": {},
   "source": [
    "### 1. Load data"
   ]
  },
  {
   "cell_type": "code",
   "execution_count": null,
   "id": "2cf5cc9e-aeab-42f8-ae4a-61c211cd25ab",
   "metadata": {},
   "outputs": [],
   "source": [
    "from sklearn.datasets import load_iris\n",
    "from sklearn.model_selection import train_test_split\n",
    "\n",
    "data = load_iris()\n",
    "X_train, X_test, y_train, y_test = train_test_split(data.data, data.target, test_size=0.2)"
   ]
  },
  {
   "cell_type": "markdown",
   "id": "488e9abe-7837-4d26-be7a-eff108c0ed6e",
   "metadata": {},
   "source": [
    "### 2. Train model & log parameters"
   ]
  },
  {
   "cell_type": "code",
   "execution_count": null,
   "id": "11cd9927-8641-4d51-9024-c4e4723b61da",
   "metadata": {},
   "outputs": [],
   "source": [
    "import mlflow\n",
    "from mlflow.models import infer_signature\n",
    "from sklearn.linear_model import LogisticRegression\n",
    "from sklearn.metrics import accuracy_score, precision_score, recall_score, classification_report\n",
    "\n",
    "# Set the tracking server uri\n",
    "mlflow.set_tracking_uri(uri=\"http://127.0.0.1:5000\")\n",
    "\n",
    "# Set the experiment name\n",
    "mlflow.set_experiment(\"demo 2\")\n",
    "\n",
    "# Test different hyperparameters\n",
    "hyperparams = [{\"C\": 0.1}, {\"C\": 1.0}, {\"C\": 10.0}]\n",
    "\n",
    "for params in hyperparams:\n",
    "    c_value = params[\"C\"]\n",
    "    with mlflow.start_run(run_name=f\"lr-{c_value}\"):\n",
    "        # Log hyperparameters\n",
    "        mlflow.log_params(params)\n",
    "\n",
    "        # Train model\n",
    "        model = LogisticRegression(**params, max_iter=200)\n",
    "        model.fit(X_train, y_train)\n",
    "\n",
    "        # Calculate metrics\n",
    "        y_pred = model.predict(X_test)\n",
    "        accuracy = accuracy_score(y_test, y_pred)\n",
    "        precision = precision_score(y_test, y_pred, average='macro')\n",
    "        recall = recall_score(y_test, y_pred, average='macro')\n",
    "\n",
    "        # Log metrics\n",
    "        mlflow.log_metrics({\n",
    "                \"accuracy\": round(accuracy, 2), \n",
    "                \"precision\": round(precision, 2), \n",
    "                \"recall\": round(recall, 2)\n",
    "            })\n",
    "\n",
    "        # get model signature\n",
    "        signature = infer_signature(\n",
    "            model_input=X_train,\n",
    "            model_output=model.predict(X_train)\n",
    "        )\n",
    "\n",
    "        # Log model\n",
    "        mlflow.sklearn.log_model(\n",
    "            sk_model=model,\n",
    "            artifact_path=\"model\",\n",
    "            signature=signature,\n",
    "        )"
   ]
  },
  {
   "cell_type": "markdown",
   "id": "15cb76eb-b1d7-48ce-9db7-fd15dbd304b3",
   "metadata": {},
   "source": [
    "### 3. Register the model"
   ]
  },
  {
   "cell_type": "code",
   "execution_count": null,
   "id": "27cf6b25-565b-4a5e-86da-75c3edf55ffe",
   "metadata": {},
   "outputs": [],
   "source": [
    "model_name = \"sk-learn-iris-lr\"\n",
    "run_id = input(\"Enter the Run ID: \")\n",
    "model_uri = f\"runs:/{run_id}/{model_name}\"\n",
    "\n",
    "result = mlflow.register_model(\n",
    "    model_uri, model_name,\n",
    ")"
   ]
  },
  {
   "cell_type": "markdown",
   "id": "9dd16535-0582-4be9-a8b3-4aa5a0baf909",
   "metadata": {},
   "source": [
    "### 4. Load the model"
   ]
  },
  {
   "cell_type": "code",
   "execution_count": null,
   "id": "e3388333-8747-49c8-9c22-195ed3d3a9b1",
   "metadata": {},
   "outputs": [],
   "source": [
    "import pandas as pd\n",
    "\n",
    "run_id = input(\"Enter the Run ID: \")\n",
    "model_uri = f\"runs:/{run_id}/model\"\n",
    "loaded_model = mlflow.pyfunc.load_model(model_uri)\n",
    "\n",
    "# Prepare valid input data (Iris example)\n",
    "input_data = pd.DataFrame({\n",
    "    \"sepal_length\": [5.1],\n",
    "    \"sepal_width\": [3.5],\n",
    "    \"petal_length\": [1.4],\n",
    "    \"petal_width\": [0.2]\n",
    "})\n",
    "\n",
    "# Predict\n",
    "predictions = loaded_model.predict(input_data)\n",
    "print(\"Predicted class:\", predictions)"
   ]
  }
 ],
 "metadata": {
  "kernelspec": {
   "display_name": "Python 3 (ipykernel)",
   "language": "python",
   "name": "python3"
  },
  "language_info": {
   "codemirror_mode": {
    "name": "ipython",
    "version": 3
   },
   "file_extension": ".py",
   "mimetype": "text/x-python",
   "name": "python",
   "nbconvert_exporter": "python",
   "pygments_lexer": "ipython3",
   "version": "3.9.19"
  }
 },
 "nbformat": 4,
 "nbformat_minor": 5
}
