{
 "cells": [
  {
   "cell_type": "code",
   "execution_count": null,
   "id": "188756d7-b609-4312-ace4-2a4d0d65103e",
   "metadata": {},
   "outputs": [],
   "source": [
    "import mlflow\n",
    "import pandas as pd\n"
   ]
  },
  {
   "cell_type": "code",
   "execution_count": null,
   "id": "b53dad8a-c869-484f-bf83-0161100d2d7f",
   "metadata": {},
   "outputs": [],
   "source": [
    "# Fetch runs from MLflow\n",
    "client = mlflow.tracking.MlflowClient()\n",
    "experiment = client.get_experiment_by_name(\"demo 2\")\n",
    "runs = client.search_runs(experiment.experiment_id)\n",
    "\n",
    "\n",
    "# Create a DataFrame\n",
    "data = []\n",
    "for run in runs:\n",
    "    data.append({\n",
    "        \"Run ID\": run.info.run_id,\n",
    "        \"C\": run.data.params.get(\"C\", \"\"),\n",
    "        \"Accuracy\": run.data.metrics.get(\"accuracy\", \"\"),\n",
    "        \"Precision\": run.data.metrics.get(\"precision\", \"\"),\n",
    "        \"Recall\": run.data.metrics.get(\"recall\", \"\")\n",
    "    })\n",
    "\n",
    "df = pd.DataFrame(data)\n",
    "df.to_csv(\"mlflow_results.csv\", index=False)"
   ]
  },
  {
   "cell_type": "code",
   "execution_count": null,
   "id": "b800362d-6551-445d-bae0-5c29226ba154",
   "metadata": {},
   "outputs": [],
   "source": []
  }
 ],
 "metadata": {
  "kernelspec": {
   "display_name": "Python 3 (ipykernel)",
   "language": "python",
   "name": "python3"
  },
  "language_info": {
   "codemirror_mode": {
    "name": "ipython",
    "version": 3
   },
   "file_extension": ".py",
   "mimetype": "text/x-python",
   "name": "python",
   "nbconvert_exporter": "python",
   "pygments_lexer": "ipython3",
   "version": "3.9.19"
  }
 },
 "nbformat": 4,
 "nbformat_minor": 5
}
